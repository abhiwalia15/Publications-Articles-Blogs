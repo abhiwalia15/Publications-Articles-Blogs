{
  "nbformat": 4,
  "nbformat_minor": 0,
  "metadata": {
    "colab": {
      "name": "SLR.ipynb",
      "provenance": []
    },
    "kernelspec": {
      "name": "python3",
      "display_name": "Python 3"
    },
    "accelerator": "GPU"
  },
  "cells": [
    {
      "cell_type": "markdown",
      "metadata": {
        "id": "yfh-mYKrNwAe",
        "colab_type": "text"
      },
      "source": [
        "## Step1:Import all necessary libraries"
      ]
    },
    {
      "cell_type": "code",
      "metadata": {
        "id": "O3f5dN1HN1pg",
        "colab_type": "code",
        "colab": {}
      },
      "source": [
        "import numpy as np\n",
        "import pandas as pd\n",
        "import matplotlib.pyplot as plt\n",
        "%matplotlib  inline"
      ],
      "execution_count": 0,
      "outputs": []
    },
    {
      "cell_type": "markdown",
      "metadata": {
        "id": "6ijYjcKeMkqQ",
        "colab_type": "text"
      },
      "source": [
        "CALCULATING RMSE AND R2"
      ]
    },
    {
      "cell_type": "code",
      "metadata": {
        "id": "41C4aX19JQhR",
        "colab_type": "code",
        "colab": {
          "base_uri": "https://localhost:8080/",
          "height": 212
        },
        "outputId": "e2eb2425-c7d2-4764-c084-c9291b72648b"
      },
      "source": [
        "# Reading Data\n",
        "data = pd.read_csv('housing_prices_SLR.csv')\n",
        "print(data.shape)\n",
        "data.head()"
      ],
      "execution_count": 4,
      "outputs": [
        {
          "output_type": "stream",
          "text": [
            "(50, 2)\n"
          ],
          "name": "stdout"
        },
        {
          "output_type": "execute_result",
          "data": {
            "text/html": [
              "<div>\n",
              "<style scoped>\n",
              "    .dataframe tbody tr th:only-of-type {\n",
              "        vertical-align: middle;\n",
              "    }\n",
              "\n",
              "    .dataframe tbody tr th {\n",
              "        vertical-align: top;\n",
              "    }\n",
              "\n",
              "    .dataframe thead th {\n",
              "        text-align: right;\n",
              "    }\n",
              "</style>\n",
              "<table border=\"1\" class=\"dataframe\">\n",
              "  <thead>\n",
              "    <tr style=\"text-align: right;\">\n",
              "      <th></th>\n",
              "      <th>AREA</th>\n",
              "      <th>PRICE</th>\n",
              "    </tr>\n",
              "  </thead>\n",
              "  <tbody>\n",
              "    <tr>\n",
              "      <th>0</th>\n",
              "      <td>1000</td>\n",
              "      <td>5618</td>\n",
              "    </tr>\n",
              "    <tr>\n",
              "      <th>1</th>\n",
              "      <td>1030</td>\n",
              "      <td>5201</td>\n",
              "    </tr>\n",
              "    <tr>\n",
              "      <th>2</th>\n",
              "      <td>1060</td>\n",
              "      <td>4779</td>\n",
              "    </tr>\n",
              "    <tr>\n",
              "      <th>3</th>\n",
              "      <td>1090</td>\n",
              "      <td>5425</td>\n",
              "    </tr>\n",
              "    <tr>\n",
              "      <th>4</th>\n",
              "      <td>1120</td>\n",
              "      <td>5657</td>\n",
              "    </tr>\n",
              "  </tbody>\n",
              "</table>\n",
              "</div>"
            ],
            "text/plain": [
              "   AREA  PRICE\n",
              "0  1000   5618\n",
              "1  1030   5201\n",
              "2  1060   4779\n",
              "3  1090   5425\n",
              "4  1120   5657"
            ]
          },
          "metadata": {
            "tags": []
          },
          "execution_count": 4
        }
      ]
    },
    {
      "cell_type": "markdown",
      "metadata": {
        "id": "QdB-vAhBMhP2",
        "colab_type": "text"
      },
      "source": [
        ""
      ]
    },
    {
      "cell_type": "code",
      "metadata": {
        "id": "_iWZkK1MJRfS",
        "colab_type": "code",
        "colab": {}
      },
      "source": [
        "# Collecting X and Y\n",
        "X = data['AREA'].values\n",
        "Y = data['PRICE'].values"
      ],
      "execution_count": 0,
      "outputs": []
    },
    {
      "cell_type": "code",
      "metadata": {
        "id": "ledilcp-JV7-",
        "colab_type": "code",
        "colab": {
          "base_uri": "https://localhost:8080/",
          "height": 67
        },
        "outputId": "a29b626d-032a-416e-d980-d20c98399bb2"
      },
      "source": [
        "# Calculating coefficient\n",
        "\n",
        "# Mean X and Y\n",
        "mean_x = np.mean(X)\n",
        "mean_y = np.mean(Y)\n",
        "\n",
        "print(mean_x)\n",
        "print(mean_y)\n",
        "\n",
        "# Total number of values\n",
        "n = len(X)\n",
        "print(n)\n"
      ],
      "execution_count": 6,
      "outputs": [
        {
          "output_type": "stream",
          "text": [
            "1735.0\n",
            "10480.82\n",
            "50\n"
          ],
          "name": "stdout"
        }
      ]
    },
    {
      "cell_type": "code",
      "metadata": {
        "id": "RJi0PjiJJiu_",
        "colab_type": "code",
        "colab": {
          "base_uri": "https://localhost:8080/",
          "height": 50
        },
        "outputId": "2c5de47f-44ab-4e99-c650-ef41419fa36f"
      },
      "source": [
        "# Using the formula to calculate b1 and b0\n",
        "numer = 0\n",
        "denom = 0\n",
        "for i in range(n):\n",
        "    numer += (X[i] - mean_x) * (Y[i] - mean_y)\n",
        "    denom += (X[i] - mean_x) ** 2\n",
        "b1 = numer / denom\n",
        "b0 = mean_y - (b1 * mean_x)\n",
        "# Printing coefficients\n",
        "print(\"Coefficients\")\n",
        "print(b1, b0)"
      ],
      "execution_count": 7,
      "outputs": [
        {
          "output_type": "stream",
          "text": [
            "Coefficients\n",
            "8.152721888755503 -3664.1524769907974\n"
          ],
          "name": "stdout"
        }
      ]
    },
    {
      "cell_type": "code",
      "metadata": {
        "id": "su3uL4wJJnUq",
        "colab_type": "code",
        "colab": {}
      },
      "source": [
        "# Plotting Values and Regression Line\n",
        "\n",
        "max_x = np.max(X) + 100\n",
        "min_x = np.min(X) - 100\n",
        "\n",
        "# Calculating line values x and y\n",
        "x = np.linspace(min_x, max_x, 1000)\n",
        "y = b0 + b1 * x"
      ],
      "execution_count": 0,
      "outputs": []
    },
    {
      "cell_type": "code",
      "metadata": {
        "id": "OzK6lCOpJrcD",
        "colab_type": "code",
        "colab": {
          "base_uri": "https://localhost:8080/",
          "height": 279
        },
        "outputId": "f0f3cd5d-d058-430d-a39f-faeb469e3003"
      },
      "source": [
        "# Ploting Line\n",
        "plt.plot(x, y, color='#58b970', label='Regression Line')\n",
        "# Ploting Scatter Points\n",
        "plt.scatter(X, Y, c='#ef5423', label='Scatter Plot')\n",
        "\n",
        "plt.xlabel('Area')\n",
        "plt.ylabel('Price')\n",
        "plt.legend()\n",
        "plt.show()"
      ],
      "execution_count": 9,
      "outputs": [
        {
          "output_type": "display_data",
          "data": {
            "image/png": "[encoded data removed]",
            "text/plain": [
              "<Figure size 432x288 with 1 Axes>"
            ]
          },
          "metadata": {
            "tags": [],
            "needs_background": "light"
          }
        }
      ]
    },
    {
      "cell_type": "code",
      "metadata": {
        "id": "2Y_Y-oUKJtkk",
        "colab_type": "code",
        "colab": {
          "base_uri": "https://localhost:8080/",
          "height": 50
        },
        "outputId": "984cb819-7f11-4d14-f970-20a5a89f4504"
      },
      "source": [
        "# Calculating Root Mean Squares Error\n",
        "rmse = 0\n",
        "for i in range(n):\n",
        "    y_pred = b0 + b1 * X[i]\n",
        "    rmse += (Y[i] - y_pred) ** 2\n",
        "rmse = np.sqrt(rmse/n)\n",
        "print(\"RMSE\")\n",
        "print(rmse)"
      ],
      "execution_count": 10,
      "outputs": [
        {
          "output_type": "stream",
          "text": [
            "RMSE\n",
            "1887.3165424825934\n"
          ],
          "name": "stdout"
        }
      ]
    },
    {
      "cell_type": "code",
      "metadata": {
        "id": "y8eIaf6GJwJA",
        "colab_type": "code",
        "colab": {
          "base_uri": "https://localhost:8080/",
          "height": 50
        },
        "outputId": "d5c0fafe-eb76-47fb-d46b-63b56fd17ccd"
      },
      "source": [
        "# Calculating R2 Score\n",
        "ss_tot = 0\n",
        "ss_res = 0\n",
        "for i in range(n):\n",
        "    y_pred = b0 + b1 * X[i]\n",
        "    ss_tot += (Y[i] - mean_y) ** 2\n",
        "    ss_res += (Y[i] - y_pred) ** 2\n",
        "r2 = 1 - (ss_res/ss_tot)\n",
        "print(\"R2 Score\")\n",
        "print(r2)"
      ],
      "execution_count": 11,
      "outputs": [
        {
          "output_type": "stream",
          "text": [
            "R2 Score\n",
            "0.7776485026370863\n"
          ],
          "name": "stdout"
        }
      ]
    },
    {
      "cell_type": "markdown",
      "metadata": {
        "id": "oEDJ0r5_Mpdy",
        "colab_type": "text"
      },
      "source": [
        "# implementation of simple Linear Regression Model\n",
        "# step2 :Load dataset"
      ]
    },
    {
      "cell_type": "code",
      "metadata": {
        "id": "NJHxdlDUMvmI",
        "colab_type": "code",
        "colab": {
          "base_uri": "https://localhost:8080/",
          "height": 195
        },
        "outputId": "ad17246f-1c2d-404f-8891-5d886df85b97"
      },
      "source": [
        "df=pd.read_csv(\"housing_prices_SLR.csv\",delimiter=',')\n",
        "df.head()"
      ],
      "execution_count": 12,
      "outputs": [
        {
          "output_type": "execute_result",
          "data": {
            "text/html": [
              "<div>\n",
              "<style scoped>\n",
              "    .dataframe tbody tr th:only-of-type {\n",
              "        vertical-align: middle;\n",
              "    }\n",
              "\n",
              "    .dataframe tbody tr th {\n",
              "        vertical-align: top;\n",
              "    }\n",
              "\n",
              "    .dataframe thead th {\n",
              "        text-align: right;\n",
              "    }\n",
              "</style>\n",
              "<table border=\"1\" class=\"dataframe\">\n",
              "  <thead>\n",
              "    <tr style=\"text-align: right;\">\n",
              "      <th></th>\n",
              "      <th>AREA</th>\n",
              "      <th>PRICE</th>\n",
              "    </tr>\n",
              "  </thead>\n",
              "  <tbody>\n",
              "    <tr>\n",
              "      <th>0</th>\n",
              "      <td>1000</td>\n",
              "      <td>5618</td>\n",
              "    </tr>\n",
              "    <tr>\n",
              "      <th>1</th>\n",
              "      <td>1030</td>\n",
              "      <td>5201</td>\n",
              "    </tr>\n",
              "    <tr>\n",
              "      <th>2</th>\n",
              "      <td>1060</td>\n",
              "      <td>4779</td>\n",
              "    </tr>\n",
              "    <tr>\n",
              "      <th>3</th>\n",
              "      <td>1090</td>\n",
              "      <td>5425</td>\n",
              "    </tr>\n",
              "    <tr>\n",
              "      <th>4</th>\n",
              "      <td>1120</td>\n",
              "      <td>5657</td>\n",
              "    </tr>\n",
              "  </tbody>\n",
              "</table>\n",
              "</div>"
            ],
            "text/plain": [
              "   AREA  PRICE\n",
              "0  1000   5618\n",
              "1  1030   5201\n",
              "2  1060   4779\n",
              "3  1090   5425\n",
              "4  1120   5657"
            ]
          },
          "metadata": {
            "tags": []
          },
          "execution_count": 12
        }
      ]
    },
    {
      "cell_type": "code",
      "metadata": {
        "id": "cJsAo6-mM1sM",
        "colab_type": "code",
        "colab": {
          "base_uri": "https://localhost:8080/",
          "height": 265
        },
        "outputId": "35c269eb-a920-4313-b42c-efed7ab49251"
      },
      "source": [
        "plt.scatter(df.AREA,df.PRICE,c='blue')\n",
        "plt.plot(df.AREA,df.PRICE,\"r\")\n",
        "plt.plot(df.AREA,df.PRICE,\"--r\")\n",
        "plt.plot(df.AREA,df.PRICE,\":r\")\n",
        "plt.plot(df.AREA,df.PRICE,\"--.c\")\n",
        "plt.show()\n"
      ],
      "execution_count": 13,
      "outputs": [
        {
          "output_type": "display_data",
          "data": {
            "image/png": "[encoded data removed]",
            "text/plain": [
              "<Figure size 432x288 with 1 Axes>"
            ]
          },
          "metadata": {
            "tags": [],
            "needs_background": "light"
          }
        }
      ]
    },
    {
      "cell_type": "markdown",
      "metadata": {
        "id": "ZJkq_AYpNQGr",
        "colab_type": "text"
      },
      "source": [
        "# Step3:Feature matrix and Target vector"
      ]
    },
    {
      "cell_type": "code",
      "metadata": {
        "id": "gAK-jYYTNBbq",
        "colab_type": "code",
        "colab": {}
      },
      "source": [
        "x=df[['AREA']].values#feature Matrix\n",
        "y=df.PRICE.values#Target Matrix"
      ],
      "execution_count": 0,
      "outputs": []
    },
    {
      "cell_type": "code",
      "metadata": {
        "id": "iS0L210xNPYl",
        "colab_type": "code",
        "colab": {
          "base_uri": "https://localhost:8080/",
          "height": 118
        },
        "outputId": "37df6e4b-aa37-425d-97fc-91b3dfc9d1df"
      },
      "source": [
        "print(x[:5]) #slicing\n",
        "print(y[:5])"
      ],
      "execution_count": 15,
      "outputs": [
        {
          "output_type": "stream",
          "text": [
            "[[1000]\n",
            " [1030]\n",
            " [1060]\n",
            " [1090]\n",
            " [1120]]\n",
            "[5618 5201 4779 5425 5657]\n"
          ],
          "name": "stdout"
        }
      ]
    },
    {
      "cell_type": "markdown",
      "metadata": {
        "id": "pTOoK9MXNkVX",
        "colab_type": "text"
      },
      "source": [
        "# step4:Split the data into 80-20"
      ]
    },
    {
      "cell_type": "code",
      "metadata": {
        "id": "GXvf1LOHNhjP",
        "colab_type": "code",
        "colab": {
          "base_uri": "https://localhost:8080/",
          "height": 84
        },
        "outputId": "724b5cb9-ed1c-49ac-9cbb-0d2ceba70f61"
      },
      "source": [
        "#from packagename import function\n",
        "from sklearn.model_selection import train_test_split\n",
        "\n",
        "#80 20 split,random_state to reproduce the same split everytime\n",
        "x_train,x_test,y_train,y_test=train_test_split(x,y,test_size=0.2,random_state=100) \n",
        "\n",
        "print(x_train.shape)\n",
        "print(x_test.shape)\n",
        "print(x_train.shape)\n",
        "print(x_test.shape)"
      ],
      "execution_count": 16,
      "outputs": [
        {
          "output_type": "stream",
          "text": [
            "(40, 1)\n",
            "(10, 1)\n",
            "(40, 1)\n",
            "(10, 1)\n"
          ],
          "name": "stdout"
        }
      ]
    },
    {
      "cell_type": "markdown",
      "metadata": {
        "id": "kWxHyiw3OE2g",
        "colab_type": "text"
      },
      "source": [
        "# step5: Fit the line:Train the SLR Model"
      ]
    },
    {
      "cell_type": "code",
      "metadata": {
        "id": "dHgs_Y5oODO1",
        "colab_type": "code",
        "colab": {
          "base_uri": "https://localhost:8080/",
          "height": 84
        },
        "outputId": "43e05ab1-b75c-4d15-c7d0-59b94f65e795"
      },
      "source": [
        "from sklearn.linear_model import LinearRegression\n",
        "lr_model= LinearRegression()\n",
        "lr_model.fit(x_train,y_train)\n",
        "\n",
        "print(lr_model.intercept_) # (PRICE=(-4481.80028058845)+8.65903854)*AREA\n",
        "print(lr_model.coef_)#y=c+mx\n",
        "\n",
        "lr_model=LinearRegression(fit_intercept= False)\n",
        "\n",
        "lr_model.fit(x_train,y_train)\n",
        "\n",
        "print(lr_model.intercept_) # (PRICE=(-4481.80028058845)+8.65903854)*AREA\n",
        "print(lr_model.coef_)#y=c+mx"
      ],
      "execution_count": 17,
      "outputs": [
        {
          "output_type": "stream",
          "text": [
            "-3103.34066448488\n",
            "[7.75979089]\n",
            "0.0\n",
            "[6.03609138]\n"
          ],
          "name": "stdout"
        }
      ]
    },
    {
      "cell_type": "markdown",
      "metadata": {
        "id": "U7wf2jVkOm4r",
        "colab_type": "text"
      },
      "source": [
        "# step6:predict using the model"
      ]
    },
    {
      "cell_type": "code",
      "metadata": {
        "id": "0vZf_8LwOPxs",
        "colab_type": "code",
        "colab": {
          "base_uri": "https://localhost:8080/",
          "height": 34
        },
        "outputId": "325e9aaa-6ac7-498a-d7bf-70e0086e017a"
      },
      "source": [
        "lr_model.predict(np.array([[2000],[2500]]))"
      ],
      "execution_count": 18,
      "outputs": [
        {
          "output_type": "execute_result",
          "data": {
            "text/plain": [
              "array([12072.18276042, 15090.22845052])"
            ]
          },
          "metadata": {
            "tags": []
          },
          "execution_count": 18
        }
      ]
    },
    {
      "cell_type": "code",
      "metadata": {
        "id": "ZDhDM70XOz-I",
        "colab_type": "code",
        "colab": {
          "base_uri": "https://localhost:8080/",
          "height": 185
        },
        "outputId": "86bdd34e-8ae7-4950-a530-da532b317f46"
      },
      "source": [
        "from sklearn.metrics import r2_score\n",
        "lr_model.predict(x_train)\n"
      ],
      "execution_count": 19,
      "outputs": [
        {
          "output_type": "execute_result",
          "data": {
            "text/plain": [
              "array([ 6036.09138021,  8028.00153568,  9295.58072552, 14184.81474349,\n",
              "       12917.23555365, 10563.15991537, 10744.24265677, 12373.98732943,\n",
              "        9114.49798412,  7303.67057005, 14546.9802263 , 11649.6563638 ,\n",
              "       11830.73910521,  9476.66346693,  9838.82894974,  8390.16701849,\n",
              "        6217.17412162,  6760.42234583,  8209.08427708, 10925.32539818,\n",
              "       13279.40103646, 10019.91169115, 11287.49088099,  7665.83605287,\n",
              "        8933.41524271, 14003.73200208, 14728.06296771, 14365.8974849 ,\n",
              "        8571.2497599 , 13460.48377787,  6398.25686302, 12192.90458802,\n",
              "       11468.5736224 ,  7846.91879427,  8752.3325013 , 10200.99443255,\n",
              "       13098.31829505,  6579.33960443, 10382.07717396,  7484.75331146])"
            ]
          },
          "metadata": {
            "tags": []
          },
          "execution_count": 19
        }
      ]
    },
    {
      "cell_type": "code",
      "metadata": {
        "id": "HMVOSH21O4U_",
        "colab_type": "code",
        "colab": {
          "base_uri": "https://localhost:8080/",
          "height": 67
        },
        "outputId": "d87bb1bf-a891-46f4-bec5-a5cea0d2c625"
      },
      "source": [
        "lr_model.predict(x_test)"
      ],
      "execution_count": 20,
      "outputs": [
        {
          "output_type": "execute_result",
          "data": {
            "text/plain": [
              "array([ 7122.58782865, 12555.07007083, 12736.15281224, 11106.40813958,\n",
              "       13822.64926068, 14909.14570912,  6941.50508724, 12011.82184662,\n",
              "        9657.74620833, 13641.56651927])"
            ]
          },
          "metadata": {
            "tags": []
          },
          "execution_count": 20
        }
      ]
    },
    {
      "cell_type": "markdown",
      "metadata": {
        "id": "WXkSYuMDPD6d",
        "colab_type": "text"
      },
      "source": [
        "# step7:calculating R^2score using tain and test model"
      ]
    },
    {
      "cell_type": "code",
      "metadata": {
        "id": "OEi2CVu1O9YY",
        "colab_type": "code",
        "colab": {
          "base_uri": "https://localhost:8080/",
          "height": 34
        },
        "outputId": "39ff30d9-e5bb-41af-b30f-313fc4480f0b"
      },
      "source": [
        "r2_score(y_train,lr_model.predict(x_train))  # 1.First way of calculating R2 score"
      ],
      "execution_count": 21,
      "outputs": [
        {
          "output_type": "execute_result",
          "data": {
            "text/plain": [
              "0.820250203127675"
            ]
          },
          "metadata": {
            "tags": []
          },
          "execution_count": 21
        }
      ]
    },
    {
      "cell_type": "code",
      "metadata": {
        "id": "odV40JoQPI1Z",
        "colab_type": "code",
        "colab": {
          "base_uri": "https://localhost:8080/",
          "height": 34
        },
        "outputId": "49c457cb-5a93-4add-e992-dc69e7a6902b"
      },
      "source": [
        "r2_score(y_test,lr_model.predict(x_test))"
      ],
      "execution_count": 22,
      "outputs": [
        {
          "output_type": "execute_result",
          "data": {
            "text/plain": [
              "0.5059420550739799"
            ]
          },
          "metadata": {
            "tags": []
          },
          "execution_count": 22
        }
      ]
    },
    {
      "cell_type": "code",
      "metadata": {
        "id": "Vqp3DttWPKEp",
        "colab_type": "code",
        "colab": {
          "base_uri": "https://localhost:8080/",
          "height": 34
        },
        "outputId": "cfd1d708-941c-489b-8554-cffee8c804c3"
      },
      "source": [
        "lr_model.score(x_test,y_test) #2.second way of calculating R2 score"
      ],
      "execution_count": 23,
      "outputs": [
        {
          "output_type": "execute_result",
          "data": {
            "text/plain": [
              "0.5059420550739799"
            ]
          },
          "metadata": {
            "tags": []
          },
          "execution_count": 23
        }
      ]
    },
    {
      "cell_type": "markdown",
      "metadata": {
        "id": "czHzFoU8PPWu",
        "colab_type": "text"
      },
      "source": [
        "##Thank ou"
      ]
    }
  ]
}